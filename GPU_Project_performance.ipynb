{
  "nbformat": 4,
  "nbformat_minor": 0,
  "metadata": {
    "colab": {
      "provenance": []
    },
    "kernelspec": {
      "name": "python3",
      "display_name": "Python 3"
    },
    "language_info": {
      "name": "python"
    },
    "accelerator": "GPU",
    "gpuClass": "standard"
  },
  "cells": [
    {
      "cell_type": "code",
      "execution_count": null,
      "metadata": {
        "colab": {
          "base_uri": "https://localhost:8080/"
        },
        "id": "Bqs3Px-hCWwT",
        "outputId": "82523e36-d37b-45ef-aa9f-b30b889a85fc"
      },
      "outputs": [
        {
          "output_type": "stream",
          "name": "stdout",
          "text": [
            "nvcc: NVIDIA (R) Cuda compiler driver\n",
            "Copyright (c) 2005-2021 NVIDIA Corporation\n",
            "Built on Sun_Feb_14_21:12:58_PST_2021\n",
            "Cuda compilation tools, release 11.2, V11.2.152\n",
            "Build cuda_11.2.r11.2/compiler.29618528_0\n",
            "Sun Jan  8 14:56:01 2023       \n",
            "+-----------------------------------------------------------------------------+\n",
            "| NVIDIA-SMI 460.32.03    Driver Version: 460.32.03    CUDA Version: 11.2     |\n",
            "|-------------------------------+----------------------+----------------------+\n",
            "| GPU  Name        Persistence-M| Bus-Id        Disp.A | Volatile Uncorr. ECC |\n",
            "| Fan  Temp  Perf  Pwr:Usage/Cap|         Memory-Usage | GPU-Util  Compute M. |\n",
            "|                               |                      |               MIG M. |\n",
            "|===============================+======================+======================|\n",
            "|   0  Tesla T4            Off  | 00000000:00:04.0 Off |                    0 |\n",
            "| N/A   65C    P0    30W /  70W |      0MiB / 15109MiB |      0%      Default |\n",
            "|                               |                      |                  N/A |\n",
            "+-------------------------------+----------------------+----------------------+\n",
            "                                                                               \n",
            "+-----------------------------------------------------------------------------+\n",
            "| Processes:                                                                  |\n",
            "|  GPU   GI   CI        PID   Type   Process name                  GPU Memory |\n",
            "|        ID   ID                                                   Usage      |\n",
            "|=============================================================================|\n",
            "|  No running processes found                                                 |\n",
            "+-----------------------------------------------------------------------------+\n",
            "Cloning into 'DD2360-project'...\n",
            "remote: Enumerating objects: 233, done.\u001b[K\n",
            "remote: Counting objects: 100% (233/233), done.\u001b[K\n",
            "remote: Compressing objects: 100% (166/166), done.\u001b[K\n",
            "remote: Total 233 (delta 109), reused 183 (delta 61), pack-reused 0\u001b[K\n",
            "Receiving objects: 100% (233/233), 3.81 MiB | 13.12 MiB/s, done.\n",
            "Resolving deltas: 100% (109/109), done.\n",
            "/content/DD2360-project\n"
          ]
        }
      ],
      "source": [
        "import matplotlib.pyplot as plt\n",
        "import subprocess\n",
        "import numpy as np\n",
        "\n",
        "!nvcc --version\n",
        "!nvidia-smi\n",
        "\n",
        "!git clone https://github.com/zehaoj/DD2360-project.git\n",
        "%cd DD2360-project"
      ]
    },
    {
      "cell_type": "code",
      "source": [
        "!git pull"
      ],
      "metadata": {
        "colab": {
          "base_uri": "https://localhost:8080/"
        },
        "id": "QdzkjrCV1BEv",
        "outputId": "d77e2512-7003-4f08-da59-5cf14d2849fe"
      },
      "execution_count": null,
      "outputs": [
        {
          "output_type": "stream",
          "name": "stdout",
          "text": [
            "Already up to date.\n"
          ]
        }
      ]
    },
    {
      "cell_type": "code",
      "source": [
        "def make_without_output():\n",
        "  result = subprocess.run(['make', 'clean'], stdout=subprocess.PIPE)\n",
        "  result = subprocess.run(['make', 'all'], stdout=subprocess.PIPE)\n",
        "  return result\n",
        "\n",
        "def basic_input_test():\n",
        "  result = subprocess.run(['bin/sputniPIC.out', 'inputfiles/GEM_2D.inp'], stdout=subprocess.PIPE)\n",
        "  result = result.stdout.decode('utf-8').split(\"\\n\")\n",
        "  return result[-6:]\n",
        "\n",
        "def regen_data_dir():\n",
        "  !rm -rf data\n",
        "  !mkdir data\n",
        "\n",
        "def profile_to_file():\n",
        "  result = subprocess.run(['/usr/local/cuda-11/bin/nv-nsight-cu-cli', 'bin/sputniPIC.out', 'inputfiles/GEM_2D.inp'], stdout=subprocess.PIPE)\n",
        "  result = result.stdout.decode('utf-8')\n",
        "  f = open(\"nv-nsight-report.txt\", \"w\")\n",
        "  f.write(result)\n",
        "  f.close()"
      ],
      "metadata": {
        "id": "dYBR5iZlCj6h"
      },
      "execution_count": null,
      "outputs": []
    },
    {
      "cell_type": "markdown",
      "source": [
        "# CPU Double (baseline)"
      ],
      "metadata": {
        "id": "aIMlYBup6lsN"
      }
    },
    {
      "cell_type": "code",
      "source": [
        "%cd cpu_double/"
      ],
      "metadata": {
        "colab": {
          "base_uri": "https://localhost:8080/"
        },
        "id": "HxjZfPu56oKy",
        "outputId": "d55712c3-2405-451b-f237-c3fa445323b5"
      },
      "execution_count": null,
      "outputs": [
        {
          "output_type": "stream",
          "name": "stdout",
          "text": [
            "/content/DD2360-project/cpu_double\n"
          ]
        }
      ]
    },
    {
      "cell_type": "code",
      "source": [
        "regen_data_dir()\n",
        "make_without_output()\n",
        "basic_input_test()"
      ],
      "metadata": {
        "id": "uEMPVdNo06lw",
        "colab": {
          "base_uri": "https://localhost:8080/"
        },
        "outputId": "059d842e-065c-465d-d146-089f21aec965"
      },
      "execution_count": null,
      "outputs": [
        {
          "output_type": "execute_result",
          "data": {
            "text/plain": [
              "['**************************************',\n",
              " '   Tot. Simulation Time (s) = 61.4404',\n",
              " '   Mover Time / Cycle   (s) = 3.07167',\n",
              " '   Interp. Time / Cycle (s) = 2.52129',\n",
              " '**************************************',\n",
              " '']"
            ]
          },
          "metadata": {},
          "execution_count": 4
        }
      ]
    },
    {
      "cell_type": "markdown",
      "source": [
        "## CPU Float"
      ],
      "metadata": {
        "id": "hkHkbwHz7drA"
      }
    },
    {
      "cell_type": "code",
      "source": [
        "%cd ..\n",
        "%cd cpu_float"
      ],
      "metadata": {
        "colab": {
          "base_uri": "https://localhost:8080/"
        },
        "id": "ZSJhA99m4GCG",
        "outputId": "a1b07841-7375-48b1-857a-ee0aa42e7b54"
      },
      "execution_count": null,
      "outputs": [
        {
          "output_type": "stream",
          "name": "stdout",
          "text": [
            "/content/DD2360-project\n",
            "/content/DD2360-project/cpu_float\n"
          ]
        }
      ]
    },
    {
      "cell_type": "code",
      "source": [
        "regen_data_dir()\n",
        "make_without_output()\n",
        "basic_input_test()"
      ],
      "metadata": {
        "id": "--wc6_hH7lK9",
        "colab": {
          "base_uri": "https://localhost:8080/"
        },
        "outputId": "935a8bb8-3cca-4bb7-9c6c-84ca9b771c8f"
      },
      "execution_count": null,
      "outputs": [
        {
          "output_type": "execute_result",
          "data": {
            "text/plain": [
              "['**************************************',\n",
              " '   Tot. Simulation Time (s) = 59.4229',\n",
              " '   Mover Time / Cycle   (s) = 3.11131',\n",
              " '   Interp. Time / Cycle (s) = 2.32453',\n",
              " '**************************************',\n",
              " '']"
            ]
          },
          "metadata": {},
          "execution_count": 6
        }
      ]
    },
    {
      "cell_type": "markdown",
      "source": [
        "## GPU Float CPU Float"
      ],
      "metadata": {
        "id": "ViGBAssS8Gsw"
      }
    },
    {
      "cell_type": "code",
      "source": [
        "%cd ..\n",
        "%cd gpu_float_cpu_float"
      ],
      "metadata": {
        "colab": {
          "base_uri": "https://localhost:8080/"
        },
        "id": "a-RUN9ji7wVd",
        "outputId": "d0657b61-3d97-47db-9b14-9123b7db510e"
      },
      "execution_count": null,
      "outputs": [
        {
          "output_type": "stream",
          "name": "stdout",
          "text": [
            "/content/DD2360-project\n",
            "/content/DD2360-project/gpu_float_cpu_float\n"
          ]
        }
      ]
    },
    {
      "cell_type": "code",
      "source": [
        "regen_data_dir()\n",
        "make_without_output()\n",
        "basic_input_test()"
      ],
      "metadata": {
        "id": "RdkF04JT8KYr",
        "colab": {
          "base_uri": "https://localhost:8080/"
        },
        "outputId": "aa36e0ac-7705-446e-8f11-3114570df3dd"
      },
      "execution_count": null,
      "outputs": [
        {
          "output_type": "execute_result",
          "data": {
            "text/plain": [
              "['**************************************',\n",
              " '   Tot. Simulation Time (s) = 29.051',\n",
              " '   Mover Time / Cycle   (s) = 0.119587',\n",
              " '   Interp. Time / Cycle (s) = 2.28575',\n",
              " '**************************************',\n",
              " '']"
            ]
          },
          "metadata": {},
          "execution_count": 8
        }
      ]
    },
    {
      "cell_type": "code",
      "source": [
        "profile_to_file()"
      ],
      "metadata": {
        "id": "ZOP0UNbPjrcJ"
      },
      "execution_count": null,
      "outputs": []
    },
    {
      "cell_type": "markdown",
      "source": [
        "## GPU Half CPU Float"
      ],
      "metadata": {
        "id": "ZFSeoLew5orW"
      }
    },
    {
      "cell_type": "code",
      "source": [
        "%cd ..\n",
        "%cd gpu_half_cpu_float"
      ],
      "metadata": {
        "colab": {
          "base_uri": "https://localhost:8080/"
        },
        "id": "O70H8syG6V8y",
        "outputId": "9a58e243-1967-4045-c028-facabf024850"
      },
      "execution_count": null,
      "outputs": [
        {
          "output_type": "stream",
          "name": "stdout",
          "text": [
            "/content/DD2360-project\n",
            "/content/DD2360-project/gpu_half_cpu_float\n"
          ]
        }
      ]
    },
    {
      "cell_type": "code",
      "source": [
        "regen_data_dir()\n",
        "make_without_output()\n",
        "basic_input_test()"
      ],
      "metadata": {
        "colab": {
          "base_uri": "https://localhost:8080/"
        },
        "id": "KsZ-XnOF8TpJ",
        "outputId": "55d23e14-b94f-4e11-edc8-6c87648fbc94"
      },
      "execution_count": null,
      "outputs": [
        {
          "output_type": "execute_result",
          "data": {
            "text/plain": [
              "['**************************************',\n",
              " '   Tot. Simulation Time (s) = 28.7968',\n",
              " '   Mover Time / Cycle   (s) = 0.0937116',\n",
              " '   Interp. Time / Cycle (s) = 2.29277',\n",
              " '**************************************',\n",
              " '']"
            ]
          },
          "metadata": {},
          "execution_count": 12
        }
      ]
    },
    {
      "cell_type": "code",
      "source": [
        "profile_to_file()"
      ],
      "metadata": {
        "id": "NOgMe3Eof6YK"
      },
      "execution_count": null,
      "outputs": []
    },
    {
      "cell_type": "markdown",
      "source": [
        "## GPU BHalf CPU Float"
      ],
      "metadata": {
        "id": "TXt6iX_h9Wt4"
      }
    },
    {
      "cell_type": "code",
      "source": [
        "%cd ..\n",
        "%cd gpu_bhalf_cpu_float/"
      ],
      "metadata": {
        "colab": {
          "base_uri": "https://localhost:8080/"
        },
        "id": "BaZ5s7ohkguJ",
        "outputId": "2a7a0997-33d7-4803-bfba-92d1f124fa09"
      },
      "execution_count": null,
      "outputs": [
        {
          "output_type": "stream",
          "name": "stdout",
          "text": [
            "/content/DD2360-project\n",
            "/content/DD2360-project/gpu_bhalf_cpu_float\n"
          ]
        }
      ]
    },
    {
      "cell_type": "code",
      "source": [
        "regen_data_dir()\n",
        "make_without_output()\n",
        "basic_input_test()"
      ],
      "metadata": {
        "colab": {
          "base_uri": "https://localhost:8080/"
        },
        "id": "ksiEipBw9Pp7",
        "outputId": "8772117b-c523-411d-b9df-bb8c8551cc10"
      },
      "execution_count": null,
      "outputs": [
        {
          "output_type": "execute_result",
          "data": {
            "text/plain": [
              "['**************************************',\n",
              " '   Tot. Simulation Time (s) = 29.408',\n",
              " '   Mover Time / Cycle   (s) = 0.133386',\n",
              " '   Interp. Time / Cycle (s) = 2.29878',\n",
              " '**************************************',\n",
              " '']"
            ]
          },
          "metadata": {},
          "execution_count": 15
        }
      ]
    },
    {
      "cell_type": "code",
      "source": [
        "profile_to_file()"
      ],
      "metadata": {
        "id": "NfvyFGRq6Jvo"
      },
      "execution_count": null,
      "outputs": []
    },
    {
      "cell_type": "markdown",
      "source": [
        "## GPU Half2 CPU Float"
      ],
      "metadata": {
        "id": "TN6MhjTluTeR"
      }
    },
    {
      "cell_type": "code",
      "source": [
        "%cd ..\n",
        "%cd gpu_half2_cpu_float/"
      ],
      "metadata": {
        "id": "dpYCb8j09ViQ",
        "colab": {
          "base_uri": "https://localhost:8080/"
        },
        "outputId": "cf585552-f5c0-439b-f998-566f50f08cf4"
      },
      "execution_count": null,
      "outputs": [
        {
          "output_type": "stream",
          "name": "stdout",
          "text": [
            "/content/DD2360-project\n",
            "/content/DD2360-project/gpu_half2_cpu_float\n"
          ]
        }
      ]
    },
    {
      "cell_type": "code",
      "source": [
        "regen_data_dir()\n",
        "make_without_output()\n",
        "basic_input_test()"
      ],
      "metadata": {
        "colab": {
          "base_uri": "https://localhost:8080/"
        },
        "id": "Z7feNTJHedS7",
        "outputId": "241d4a6d-359f-4808-f762-cc1a720a5d93"
      },
      "execution_count": null,
      "outputs": [
        {
          "output_type": "execute_result",
          "data": {
            "text/plain": [
              "['**************************************',\n",
              " '   Tot. Simulation Time (s) = 28.6495',\n",
              " '   Mover Time / Cycle   (s) = 0.0941052',\n",
              " '   Interp. Time / Cycle (s) = 2.27129',\n",
              " '**************************************',\n",
              " '']"
            ]
          },
          "metadata": {},
          "execution_count": 18
        }
      ]
    },
    {
      "cell_type": "code",
      "source": [
        "profile_to_file()"
      ],
      "metadata": {
        "id": "vbNQL5J16OLK"
      },
      "execution_count": null,
      "outputs": []
    },
    {
      "cell_type": "markdown",
      "source": [
        "## GPU Double CPU Double"
      ],
      "metadata": {
        "id": "AEhHHKq2uaCk"
      }
    },
    {
      "cell_type": "code",
      "source": [
        "%cd ..\n",
        "%cd gpu_double_cpu_double/"
      ],
      "metadata": {
        "colab": {
          "base_uri": "https://localhost:8080/"
        },
        "id": "GhiXQBuLfQR9",
        "outputId": "de8a42e9-343c-4f97-c235-8d0c6b6df064"
      },
      "execution_count": null,
      "outputs": [
        {
          "output_type": "stream",
          "name": "stdout",
          "text": [
            "/content/DD2360-project\n",
            "/content/DD2360-project/gpu_double_cpu_double\n"
          ]
        }
      ]
    },
    {
      "cell_type": "code",
      "source": [
        "regen_data_dir()\n",
        "make_without_output()\n",
        "basic_input_test()"
      ],
      "metadata": {
        "colab": {
          "base_uri": "https://localhost:8080/"
        },
        "id": "7t1ilWbspztG",
        "outputId": "369c14ca-332c-4490-806f-24fd116965ee"
      },
      "execution_count": null,
      "outputs": [
        {
          "output_type": "execute_result",
          "data": {
            "text/plain": [
              "['**************************************',\n",
              " '   Tot. Simulation Time (s) = 31.3126',\n",
              " '   Mover Time / Cycle   (s) = 0.249438',\n",
              " '   Interp. Time / Cycle (s) = 2.3576',\n",
              " '**************************************',\n",
              " '']"
            ]
          },
          "metadata": {},
          "execution_count": 22
        }
      ]
    },
    {
      "cell_type": "code",
      "source": [
        "profile_to_file()"
      ],
      "metadata": {
        "id": "x1w8t7tHp3Xh"
      },
      "execution_count": null,
      "outputs": []
    },
    {
      "cell_type": "markdown",
      "source": [
        "## GPU Half CPU Double"
      ],
      "metadata": {
        "id": "Li5qnHug7oVF"
      }
    },
    {
      "cell_type": "code",
      "source": [
        "%cd ..\n",
        "%cd gpu_half_cpu_double/"
      ],
      "metadata": {
        "colab": {
          "base_uri": "https://localhost:8080/"
        },
        "id": "M9bMkxx37T0F",
        "outputId": "5dc3d681-6807-4582-b1fd-629ed0756e27"
      },
      "execution_count": null,
      "outputs": [
        {
          "output_type": "stream",
          "name": "stdout",
          "text": [
            "/content/DD2360-project\n",
            "/content/DD2360-project/gpu_half_cpu_double\n"
          ]
        }
      ]
    },
    {
      "cell_type": "code",
      "source": [
        "regen_data_dir()\n",
        "make_without_output()\n",
        "basic_input_test()"
      ],
      "metadata": {
        "colab": {
          "base_uri": "https://localhost:8080/"
        },
        "id": "fghXmrRp7sgv",
        "outputId": "539fd82d-9e9f-4e3e-f499-b490e026ecaa"
      },
      "execution_count": null,
      "outputs": [
        {
          "output_type": "execute_result",
          "data": {
            "text/plain": [
              "['**************************************',\n",
              " '   Tot. Simulation Time (s) = 32.6426',\n",
              " '   Mover Time / Cycle   (s) = 0.208285',\n",
              " '   Interp. Time / Cycle (s) = 2.51025',\n",
              " '**************************************',\n",
              " '']"
            ]
          },
          "metadata": {},
          "execution_count": 25
        }
      ]
    },
    {
      "cell_type": "code",
      "source": [
        "profile_to_file()"
      ],
      "metadata": {
        "id": "hIZ0EOrG7tlr"
      },
      "execution_count": null,
      "outputs": []
    },
    {
      "cell_type": "markdown",
      "source": [
        "## GPU BHalf CPU Double"
      ],
      "metadata": {
        "id": "ybBEB-uL7v4s"
      }
    },
    {
      "cell_type": "code",
      "source": [
        "%cd ..\n",
        "%cd gpu_bhalf_cpu_double/"
      ],
      "metadata": {
        "colab": {
          "base_uri": "https://localhost:8080/"
        },
        "id": "jujFkTpv7u7t",
        "outputId": "5b0d026f-55ab-445a-c09b-4c99b7021728"
      },
      "execution_count": null,
      "outputs": [
        {
          "output_type": "stream",
          "name": "stdout",
          "text": [
            "/content/DD2360-project\n",
            "/content/DD2360-project/gpu_bhalf_cpu_double\n"
          ]
        }
      ]
    },
    {
      "cell_type": "code",
      "source": [
        "regen_data_dir()\n",
        "make_without_output()\n",
        "basic_input_test()"
      ],
      "metadata": {
        "colab": {
          "base_uri": "https://localhost:8080/"
        },
        "id": "5cly5Z7Q71dt",
        "outputId": "a2ef51f4-1493-47b1-b00b-47d24af3da82"
      },
      "execution_count": null,
      "outputs": [
        {
          "output_type": "execute_result",
          "data": {
            "text/plain": [
              "['**************************************',\n",
              " '   Tot. Simulation Time (s) = 30.9904',\n",
              " '   Mover Time / Cycle   (s) = 0.219744',\n",
              " '   Interp. Time / Cycle (s) = 2.35569',\n",
              " '**************************************',\n",
              " '']"
            ]
          },
          "metadata": {},
          "execution_count": 28
        }
      ]
    },
    {
      "cell_type": "code",
      "source": [
        "profile_to_file()"
      ],
      "metadata": {
        "id": "-ZnMA0aZ73IN"
      },
      "execution_count": null,
      "outputs": []
    },
    {
      "cell_type": "markdown",
      "source": [
        "## GPU Half2 CPU Double"
      ],
      "metadata": {
        "id": "OelVDvw375Ai"
      }
    },
    {
      "cell_type": "code",
      "source": [
        "%cd ..\n",
        "%cd gpu_half2_cpu_double/"
      ],
      "metadata": {
        "colab": {
          "base_uri": "https://localhost:8080/"
        },
        "id": "sJligSD774QI",
        "outputId": "8dbcd2c1-4846-49f0-b775-0bed2bb4cbaa"
      },
      "execution_count": null,
      "outputs": [
        {
          "output_type": "stream",
          "name": "stdout",
          "text": [
            "/content/DD2360-project\n",
            "/content/DD2360-project/gpu_half2_cpu_double\n"
          ]
        }
      ]
    },
    {
      "cell_type": "code",
      "source": [
        "regen_data_dir()\n",
        "make_without_output()\n",
        "basic_input_test()"
      ],
      "metadata": {
        "colab": {
          "base_uri": "https://localhost:8080/"
        },
        "id": "tjs4V0e779my",
        "outputId": "f3e3f8cf-d8e9-492b-b66d-032bd06fb670"
      },
      "execution_count": null,
      "outputs": [
        {
          "output_type": "execute_result",
          "data": {
            "text/plain": [
              "['**************************************',\n",
              " '   Tot. Simulation Time (s) = 30.8299',\n",
              " '   Mover Time / Cycle   (s) = 0.208147',\n",
              " '   Interp. Time / Cycle (s) = 2.35335',\n",
              " '**************************************',\n",
              " '']"
            ]
          },
          "metadata": {},
          "execution_count": 31
        }
      ]
    },
    {
      "cell_type": "code",
      "source": [
        "profile_to_file()"
      ],
      "metadata": {
        "id": "_dfpw2Fq7-ix"
      },
      "execution_count": null,
      "outputs": []
    },
    {
      "cell_type": "code",
      "source": [],
      "metadata": {
        "id": "bxP9LYrD7_Xv"
      },
      "execution_count": null,
      "outputs": []
    }
  ]
}